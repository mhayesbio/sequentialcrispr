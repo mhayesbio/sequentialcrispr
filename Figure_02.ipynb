{
 "cells": [
  {
   "cell_type": "markdown",
   "id": "c0173f8a",
   "metadata": {},
   "source": [
    "## Figure 2 (MOI vs read depth for screens using same promoter for both Many and One steps of sequential screen)"
   ]
  },
  {
   "cell_type": "code",
   "execution_count": 1,
   "id": "3338b059",
   "metadata": {},
   "outputs": [],
   "source": [
    "import sys\n",
    "import numpy as np\n",
    "import scipy.stats\n",
    "import pandas as pd\n",
    "import matplotlib.pyplot as plt\n",
    "import seaborn as sns\n",
    "import math"
   ]
  },
  {
   "cell_type": "code",
   "execution_count": 2,
   "id": "8b7f13ef",
   "metadata": {},
   "outputs": [
    {
     "name": "stdout",
     "output_type": "stream",
     "text": [
      "3.9.7 (default, Sep 16 2021, 13:09:58) \n",
      "[GCC 7.5.0]\n"
     ]
    }
   ],
   "source": [
    "print (sys.version)"
   ]
  },
  {
   "cell_type": "code",
   "execution_count": 3,
   "id": "203f2660",
   "metadata": {},
   "outputs": [
    {
     "data": {
      "text/plain": [
       "'1.7.3'"
      ]
     },
     "execution_count": 3,
     "metadata": {},
     "output_type": "execute_result"
    }
   ],
   "source": [
    "scipy.__version__"
   ]
  },
  {
   "cell_type": "code",
   "execution_count": 4,
   "id": "9273b8a9",
   "metadata": {},
   "outputs": [],
   "source": [
    "poisson_MOI_list = [0.1, 0.3, 0.5, 1, 2, 3, 4, 5, 6, 7, 8, 9, 10]\n",
    "\n",
    "df_poisson = pd.DataFrame(poisson_MOI_list, columns=['MOI'])\n",
    "df_poisson['fraction_atleast1_inf'] = df_poisson['MOI'].apply(lambda x:scipy.stats.poisson.sf(0,x,loc=0))\n",
    "\n",
    "# The \"many\" CRISPR screen was performed at a MOI of 0.3\n",
    "expected_value_moi_screen = 0.3/(1-math.exp(-0.3))\n",
    "\n",
    "# Determine the fraction of total reads that originate from the \"many\" screen when using LCv2-U6 for the \"one\" at various MOIs.\n",
    "df_poisson['fraction_reads_screen_U6'] = df_poisson['MOI'].apply(lambda x: expected_value_moi_screen/(expected_value_moi_screen+(x/(1-math.exp(-x)))))\n",
    "\n",
    "# LCv2-7SK is not amplified by the amplification primers, so when 7SK is used for the \"ONE\" it does not reduce the fraction of \"many\" reads\n",
    "df_poisson['fraction_reads_screen_7SK'] = 1"
   ]
  },
  {
   "cell_type": "code",
   "execution_count": 5,
   "id": "51a857b0",
   "metadata": {},
   "outputs": [
    {
     "data": {
      "text/html": [
       "<div>\n",
       "<style scoped>\n",
       "    .dataframe tbody tr th:only-of-type {\n",
       "        vertical-align: middle;\n",
       "    }\n",
       "\n",
       "    .dataframe tbody tr th {\n",
       "        vertical-align: top;\n",
       "    }\n",
       "\n",
       "    .dataframe thead th {\n",
       "        text-align: right;\n",
       "    }\n",
       "</style>\n",
       "<table border=\"1\" class=\"dataframe\">\n",
       "  <thead>\n",
       "    <tr style=\"text-align: right;\">\n",
       "      <th></th>\n",
       "      <th>MOI</th>\n",
       "      <th>fraction_atleast1_inf</th>\n",
       "      <th>fraction_reads_screen_U6</th>\n",
       "      <th>fraction_reads_screen_7SK</th>\n",
       "    </tr>\n",
       "  </thead>\n",
       "  <tbody>\n",
       "    <tr>\n",
       "      <th>0</th>\n",
       "      <td>0.1</td>\n",
       "      <td>0.095163</td>\n",
       "      <td>0.524149</td>\n",
       "      <td>1</td>\n",
       "    </tr>\n",
       "    <tr>\n",
       "      <th>1</th>\n",
       "      <td>0.3</td>\n",
       "      <td>0.259182</td>\n",
       "      <td>0.500000</td>\n",
       "      <td>1</td>\n",
       "    </tr>\n",
       "    <tr>\n",
       "      <th>2</th>\n",
       "      <td>0.5</td>\n",
       "      <td>0.393469</td>\n",
       "      <td>0.476679</td>\n",
       "      <td>1</td>\n",
       "    </tr>\n",
       "    <tr>\n",
       "      <th>3</th>\n",
       "      <td>1.0</td>\n",
       "      <td>0.632121</td>\n",
       "      <td>0.422524</td>\n",
       "      <td>1</td>\n",
       "    </tr>\n",
       "    <tr>\n",
       "      <th>4</th>\n",
       "      <td>2.0</td>\n",
       "      <td>0.864665</td>\n",
       "      <td>0.333520</td>\n",
       "      <td>1</td>\n",
       "    </tr>\n",
       "    <tr>\n",
       "      <th>5</th>\n",
       "      <td>3.0</td>\n",
       "      <td>0.950213</td>\n",
       "      <td>0.268268</td>\n",
       "      <td>1</td>\n",
       "    </tr>\n",
       "    <tr>\n",
       "      <th>6</th>\n",
       "      <td>4.0</td>\n",
       "      <td>0.981684</td>\n",
       "      <td>0.221228</td>\n",
       "      <td>1</td>\n",
       "    </tr>\n",
       "    <tr>\n",
       "      <th>7</th>\n",
       "      <td>5.0</td>\n",
       "      <td>0.993262</td>\n",
       "      <td>0.186951</td>\n",
       "      <td>1</td>\n",
       "    </tr>\n",
       "    <tr>\n",
       "      <th>8</th>\n",
       "      <td>6.0</td>\n",
       "      <td>0.997521</td>\n",
       "      <td>0.161381</td>\n",
       "      <td>1</td>\n",
       "    </tr>\n",
       "    <tr>\n",
       "      <th>9</th>\n",
       "      <td>7.0</td>\n",
       "      <td>0.999088</td>\n",
       "      <td>0.141782</td>\n",
       "      <td>1</td>\n",
       "    </tr>\n",
       "    <tr>\n",
       "      <th>10</th>\n",
       "      <td>8.0</td>\n",
       "      <td>0.999665</td>\n",
       "      <td>0.126361</td>\n",
       "      <td>1</td>\n",
       "    </tr>\n",
       "    <tr>\n",
       "      <th>11</th>\n",
       "      <td>9.0</td>\n",
       "      <td>0.999877</td>\n",
       "      <td>0.113942</td>\n",
       "      <td>1</td>\n",
       "    </tr>\n",
       "    <tr>\n",
       "      <th>12</th>\n",
       "      <td>10.0</td>\n",
       "      <td>0.999955</td>\n",
       "      <td>0.103737</td>\n",
       "      <td>1</td>\n",
       "    </tr>\n",
       "  </tbody>\n",
       "</table>\n",
       "</div>"
      ],
      "text/plain": [
       "     MOI  fraction_atleast1_inf  fraction_reads_screen_U6  \\\n",
       "0    0.1               0.095163                  0.524149   \n",
       "1    0.3               0.259182                  0.500000   \n",
       "2    0.5               0.393469                  0.476679   \n",
       "3    1.0               0.632121                  0.422524   \n",
       "4    2.0               0.864665                  0.333520   \n",
       "5    3.0               0.950213                  0.268268   \n",
       "6    4.0               0.981684                  0.221228   \n",
       "7    5.0               0.993262                  0.186951   \n",
       "8    6.0               0.997521                  0.161381   \n",
       "9    7.0               0.999088                  0.141782   \n",
       "10   8.0               0.999665                  0.126361   \n",
       "11   9.0               0.999877                  0.113942   \n",
       "12  10.0               0.999955                  0.103737   \n",
       "\n",
       "    fraction_reads_screen_7SK  \n",
       "0                           1  \n",
       "1                           1  \n",
       "2                           1  \n",
       "3                           1  \n",
       "4                           1  \n",
       "5                           1  \n",
       "6                           1  \n",
       "7                           1  \n",
       "8                           1  \n",
       "9                           1  \n",
       "10                          1  \n",
       "11                          1  \n",
       "12                          1  "
      ]
     },
     "execution_count": 5,
     "metadata": {},
     "output_type": "execute_result"
    }
   ],
   "source": [
    "df_poisson"
   ]
  },
  {
   "cell_type": "code",
   "execution_count": 6,
   "id": "da5c1753",
   "metadata": {},
   "outputs": [
    {
     "data": {
      "image/png": "[encoded data removed]",
      "text/plain": [
       "<Figure size 720x360 with 2 Axes>"
      ]
     },
     "metadata": {
      "needs_background": "light"
     },
     "output_type": "display_data"
    }
   ],
   "source": [
    "fig, axes = plt.subplots(1, 2, sharex=True, figsize=(10,5))\n",
    "sns.scatterplot(ax=axes[0], data=df_poisson, x='MOI', y='fraction_atleast1_inf', label='Fraction_atleast_1', **{'facecolor':'orange'})\n",
    "sns.scatterplot(ax=axes[0],data=df_poisson, x='MOI', y='fraction_reads_screen_U6', label='Fraction_reads_screen_U6', **{'facecolor':'red'})\n",
    "\n",
    "sns.scatterplot(ax=axes[1], data=df_poisson, x='MOI', y='fraction_atleast1_inf', label='Fraction_atleast_1', **{'facecolor':'orange'})\n",
    "sns.scatterplot(ax=axes[1],data=df_poisson, x='MOI', y='fraction_reads_screen_7SK', label='Fraction_reads_screen_7SK', **{'facecolor':'blue'})\n",
    "\n",
    "axes[0].set_ylim(0,)\n",
    "axes[1].set_ylim(0,)\n",
    "\n",
    "axes[0].set_ylabel('Fraction')\n",
    "axes[1].set_ylabel('Fraction')\n",
    "\n",
    "# This will produce a vector format image that can be used in Inkscape/Illustrator to change colors/label font/etc.\n",
    "plt.savefig('Figure2.svg')"
   ]
  },
  {
   "cell_type": "code",
   "execution_count": null,
   "id": "bcdcea7e",
   "metadata": {},
   "outputs": [],
   "source": []
  }
 ],
 "metadata": {
  "kernelspec": {
   "display_name": "Python 3 (ipykernel)",
   "language": "python",
   "name": "python3"
  },
  "language_info": {
   "codemirror_mode": {
    "name": "ipython",
    "version": 3
   },
   "file_extension": ".py",
   "mimetype": "text/x-python",
   "name": "python",
   "nbconvert_exporter": "python",
   "pygments_lexer": "ipython3",
   "version": "3.9.7"
  }
 },
 "nbformat": 4,
 "nbformat_minor": 5
}
